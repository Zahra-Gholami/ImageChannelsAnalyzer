{
  "nbformat": 4,
  "nbformat_minor": 0,
  "metadata": {
    "colab": {
      "provenance": []
    },
    "kernelspec": {
      "name": "python3",
      "display_name": "Python 3"
    },
    "language_info": {
      "name": "python"
    }
  },
  "cells": [
    {
      "cell_type": "markdown",
      "source": [
        "Use OpenCV to Extract and Analyze Image Channels\n",
        "\n"
      ],
      "metadata": {
        "id": "rfiRMeLv7wet"
      }
    },
    {
      "cell_type": "code",
      "execution_count": 2,
      "metadata": {
        "id": "t8yH8Z0pwd2q"
      },
      "outputs": [],
      "source": [
        "import cv2 as cv"
      ]
    },
    {
      "cell_type": "code",
      "source": [
        "image=cv.imread(\"/content/image.webp\")"
      ],
      "metadata": {
        "id": "bnEYmw6QwxRz"
      },
      "execution_count": 8,
      "outputs": []
    },
    {
      "cell_type": "code",
      "source": [
        "gray=cv.cvtColor(image,cv.COLOR_BGR2GRAY)"
      ],
      "metadata": {
        "id": "jCtm92IfxOrY"
      },
      "execution_count": 9,
      "outputs": []
    },
    {
      "cell_type": "code",
      "source": [
        "print(gray)\n",
        "print(\"\")"
      ],
      "metadata": {
        "colab": {
          "base_uri": "https://localhost:8080/"
        },
        "id": "SCLRKqDyxU0d",
        "outputId": "b1eef21f-9f1e-4d28-a8aa-124b1606085e"
      },
      "execution_count": 10,
      "outputs": [
        {
          "output_type": "stream",
          "name": "stdout",
          "text": [
            "[[ 95  87  92 ...  70  81  89]\n",
            " [100  97  86 ...  77 127  97]\n",
            " [ 95  95  91 ...  67 108  92]\n",
            " ...\n",
            " [ 43  38  22 ...  37  35  81]\n",
            " [ 41  36  22 ...  33  33  95]\n",
            " [ 33  30  20 ...  30  38  74]]\n",
            "\n"
          ]
        }
      ]
    },
    {
      "cell_type": "code",
      "source": [
        "print(gray.shape)"
      ],
      "metadata": {
        "colab": {
          "base_uri": "https://localhost:8080/"
        },
        "id": "9dB8f35zxesd",
        "outputId": "6142c545-867c-4b24-9bc2-bec450427e22"
      },
      "execution_count": 12,
      "outputs": [
        {
          "output_type": "stream",
          "name": "stdout",
          "text": [
            "(1024, 1024)\n"
          ]
        }
      ]
    }
  ]
}